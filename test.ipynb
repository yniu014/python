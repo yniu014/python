{
  "nbformat": 4,
  "nbformat_minor": 0,
  "metadata": {
    "colab": {
      "provenance": [],
      "authorship_tag": "ABX9TyPmUsBwmi8uoW4wO3Kl6kbO",
      "include_colab_link": true
    },
    "kernelspec": {
      "name": "python3",
      "display_name": "Python 3"
    },
    "language_info": {
      "name": "python"
    }
  },
  "cells": [
    {
      "cell_type": "markdown",
      "metadata": {
        "id": "view-in-github",
        "colab_type": "text"
      },
      "source": [
        "<a href=\"https://colab.research.google.com/github/yniu014/python/blob/main/test.ipynb\" target=\"_parent\"><img src=\"https://colab.research.google.com/assets/colab-badge.svg\" alt=\"Open In Colab\"/></a>"
      ]
    },
    {
      "cell_type": "code",
      "execution_count": 7,
      "metadata": {
        "colab": {
          "base_uri": "https://localhost:8080/"
        },
        "id": "dzy8DuQDvs-n",
        "outputId": "957f3f68-3d7d-4525-faa1-1e09b38bd955"
      },
      "outputs": [
        {
          "output_type": "stream",
          "name": "stdout",
          "text": [
            "hello,world\n"
          ]
        },
        {
          "output_type": "execute_result",
          "data": {
            "text/plain": [
              "[1]"
            ]
          },
          "metadata": {},
          "execution_count": 7
        }
      ],
      "source": [
        "print(\"hello,world\")\n",
        "class stack:\n",
        "  def __init__(self):\n",
        "    self.list=[]\n",
        "    self.t=-1\n",
        "    self.lenghth=10\n",
        "\n",
        "  def push(self,item):\n",
        "    if self.t+1==self.t:\n",
        "      return print(\"full\")\n",
        "    else:\n",
        "      self.t+=1\n",
        "      self.list.append(item)\n",
        "      return self.list\n",
        "  def pop(self):\n",
        "    if self.t==-1:\n",
        "      return print(\"empty\")\n",
        "    else:\n",
        "      self.t-=1\n",
        "      return self.list.pop()\n",
        "  def size(self):\n",
        "    return self.t+1\n",
        "\n",
        "s=stack()\n",
        "s.push(1)\n",
        "\n",
        "\n"
      ]
    },
    {
      "cell_type": "code",
      "source": [],
      "metadata": {
        "id": "s6SjRj5U2B6Y"
      },
      "execution_count": null,
      "outputs": []
    },
    {
      "cell_type": "code",
      "source": [],
      "metadata": {
        "id": "m40uvUAk1caU"
      },
      "execution_count": null,
      "outputs": []
    }
  ]
}